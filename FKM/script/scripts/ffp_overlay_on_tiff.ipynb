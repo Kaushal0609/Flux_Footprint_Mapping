{
 "cells": [
  {
   "cell_type": "code",
   "execution_count": 1,
   "metadata": {},
   "outputs": [],
   "source": [
    "import pandas as pd\n",
    "import numpy as np\n",
    "import matplotlib.pyplot as plt\n",
    "import rasterio\n",
    "from rasterio.plot import show\n",
    "import numpy as np\n",
    "from math import cos, radians\n",
    "import matplotlib.pyplot as plt\n",
    "import rasterio\n",
    "from rasterio.transform import from_origin\n",
    "from pyproj import Proj, transform\n",
    "import pyproj"
   ]
  },
  {
   "cell_type": "code",
   "execution_count": 2,
   "metadata": {},
   "outputs": [],
   "source": [
    "import calc_footprint_FFP_climatology as ffp\n",
    "import footprint_FKM_climatology as fkm"
   ]
  },
  {
   "cell_type": "code",
   "execution_count": 26,
   "metadata": {},
   "outputs": [],
   "source": [
    "df = pd.read_csv('stable.csv')"
   ]
  },
  {
   "cell_type": "code",
   "execution_count": 27,
   "metadata": {},
   "outputs": [
    {
     "data": {
      "text/html": [
       "<div>\n",
       "<style scoped>\n",
       "    .dataframe tbody tr th:only-of-type {\n",
       "        vertical-align: middle;\n",
       "    }\n",
       "\n",
       "    .dataframe tbody tr th {\n",
       "        vertical-align: top;\n",
       "    }\n",
       "\n",
       "    .dataframe thead th {\n",
       "        text-align: right;\n",
       "    }\n",
       "</style>\n",
       "<table border=\"1\" class=\"dataframe\">\n",
       "  <thead>\n",
       "    <tr style=\"text-align: right;\">\n",
       "      <th></th>\n",
       "      <th>mm</th>\n",
       "      <th>day</th>\n",
       "      <th>yyyy</th>\n",
       "      <th>HH_UTC</th>\n",
       "      <th>MM</th>\n",
       "      <th>umean1</th>\n",
       "      <th>umean</th>\n",
       "      <th>wind_dir</th>\n",
       "      <th>z0</th>\n",
       "      <th>ol</th>\n",
       "      <th>u_star</th>\n",
       "      <th>sigma_v</th>\n",
       "      <th>Zm_1</th>\n",
       "      <th>Zm_2</th>\n",
       "    </tr>\n",
       "  </thead>\n",
       "  <tbody>\n",
       "    <tr>\n",
       "      <th>0</th>\n",
       "      <td>3</td>\n",
       "      <td>23</td>\n",
       "      <td>2009</td>\n",
       "      <td>4</td>\n",
       "      <td>4</td>\n",
       "      <td>0.25</td>\n",
       "      <td>1.00</td>\n",
       "      <td>1</td>\n",
       "      <td>63818.000000</td>\n",
       "      <td>0.97356</td>\n",
       "      <td>0.019128</td>\n",
       "      <td>0.52</td>\n",
       "      <td>2.83</td>\n",
       "      <td>5.66</td>\n",
       "    </tr>\n",
       "    <tr>\n",
       "      <th>1</th>\n",
       "      <td>2</td>\n",
       "      <td>20</td>\n",
       "      <td>2009</td>\n",
       "      <td>5</td>\n",
       "      <td>4</td>\n",
       "      <td>1.25</td>\n",
       "      <td>1.95</td>\n",
       "      <td>1</td>\n",
       "      <td>0.005986</td>\n",
       "      <td>2.39770</td>\n",
       "      <td>0.041245</td>\n",
       "      <td>0.65</td>\n",
       "      <td>2.83</td>\n",
       "      <td>5.66</td>\n",
       "    </tr>\n",
       "    <tr>\n",
       "      <th>2</th>\n",
       "      <td>12</td>\n",
       "      <td>20</td>\n",
       "      <td>2009</td>\n",
       "      <td>17</td>\n",
       "      <td>3</td>\n",
       "      <td>0.90</td>\n",
       "      <td>1.45</td>\n",
       "      <td>1</td>\n",
       "      <td>0.128600</td>\n",
       "      <td>4.06120</td>\n",
       "      <td>0.055067</td>\n",
       "      <td>0.26</td>\n",
       "      <td>2.83</td>\n",
       "      <td>5.66</td>\n",
       "    </tr>\n",
       "    <tr>\n",
       "      <th>3</th>\n",
       "      <td>2</td>\n",
       "      <td>21</td>\n",
       "      <td>2009</td>\n",
       "      <td>5</td>\n",
       "      <td>5</td>\n",
       "      <td>0.50</td>\n",
       "      <td>1.40</td>\n",
       "      <td>1</td>\n",
       "      <td>10.644000</td>\n",
       "      <td>4.74020</td>\n",
       "      <td>0.097033</td>\n",
       "      <td>0.45</td>\n",
       "      <td>2.83</td>\n",
       "      <td>5.66</td>\n",
       "    </tr>\n",
       "    <tr>\n",
       "      <th>4</th>\n",
       "      <td>2</td>\n",
       "      <td>20</td>\n",
       "      <td>2009</td>\n",
       "      <td>3</td>\n",
       "      <td>5</td>\n",
       "      <td>0.30</td>\n",
       "      <td>1.00</td>\n",
       "      <td>1</td>\n",
       "      <td>3.838700</td>\n",
       "      <td>14.51400</td>\n",
       "      <td>0.165770</td>\n",
       "      <td>0.59</td>\n",
       "      <td>2.83</td>\n",
       "      <td>5.66</td>\n",
       "    </tr>\n",
       "  </tbody>\n",
       "</table>\n",
       "</div>"
      ],
      "text/plain": [
       "   mm  day  yyyy  HH_UTC  MM  umean1  umean  wind_dir            z0        ol  \\\n",
       "0   3   23  2009       4   4    0.25   1.00         1  63818.000000   0.97356   \n",
       "1   2   20  2009       5   4    1.25   1.95         1      0.005986   2.39770   \n",
       "2  12   20  2009      17   3    0.90   1.45         1      0.128600   4.06120   \n",
       "3   2   21  2009       5   5    0.50   1.40         1     10.644000   4.74020   \n",
       "4   2   20  2009       3   5    0.30   1.00         1      3.838700  14.51400   \n",
       "\n",
       "     u_star  sigma_v  Zm_1  Zm_2  \n",
       "0  0.019128     0.52  2.83  5.66  \n",
       "1  0.041245     0.65  2.83  5.66  \n",
       "2  0.055067     0.26  2.83  5.66  \n",
       "3  0.097033     0.45  2.83  5.66  \n",
       "4  0.165770     0.59  2.83  5.66  "
      ]
     },
     "execution_count": 27,
     "metadata": {},
     "output_type": "execute_result"
    }
   ],
   "source": [
    "df.head()"
   ]
  },
  {
   "cell_type": "code",
   "execution_count": 10,
   "metadata": {},
   "outputs": [],
   "source": [
    "# df.columns"
   ]
  },
  {
   "cell_type": "code",
   "execution_count": 11,
   "metadata": {},
   "outputs": [],
   "source": [
    "# df.columns"
   ]
  },
  {
   "cell_type": "code",
   "execution_count": 28,
   "metadata": {},
   "outputs": [],
   "source": [
    "df1 = df[(df['mm'] == 12) | (df['mm'] < 3)]  # winter\n",
    "df2 = df[(df['mm'] >=3) & (df['mm'] <= 5)]   # summer\n",
    "df3 = df[(df['mm'] >= 6) & (df['mm'] <= 9)]   # monsoon\n",
    "df4 = df[(df['mm'] >= 10) & (df['mm'] <= 11)]   # autumn"
   ]
  },
  {
   "cell_type": "code",
   "execution_count": 15,
   "metadata": {},
   "outputs": [
    {
     "name": "stdout",
     "output_type": "stream",
     "text": [
      "Station coordinates in UTM: X = 292307.3593888789, Y = 2493792.267627137, EPSG = 32643\n",
      "Percent: [--------------------------------------------------] 0.0% "
     ]
    },
    {
     "name": "stderr",
     "output_type": "stream",
     "text": [
      "d:\\AAU\\Module_3\\Project_mo_3\\scripts\\scripts\\footprint_FKM_climatology.py:294: RuntimeWarning: divide by zero encountered in divide\n",
      "  help3 = C*numpy.exp(-B/x_ma)*(x_ma**(-A))\n",
      "d:\\AAU\\Module_3\\Project_mo_3\\scripts\\scripts\\footprint_FKM_climatology.py:294: RuntimeWarning: overflow encountered in exp\n",
      "  help3 = C*numpy.exp(-B/x_ma)*(x_ma**(-A))\n",
      "d:\\AAU\\Module_3\\Project_mo_3\\scripts\\scripts\\footprint_FKM_climatology.py:294: RuntimeWarning: overflow encountered in multiply\n",
      "  help3 = C*numpy.exp(-B/x_ma)*(x_ma**(-A))\n"
     ]
    },
    {
     "name": "stdout",
     "output_type": "stream",
     "text": [
      "Percent: [##################################################] 99.0% 00000000001% "
     ]
    },
    {
     "name": "stderr",
     "output_type": "stream",
     "text": [
      "188 times Error(0007):\n",
      " zm/ol (measurement height to Obukhov length ratio) must be equal or larger than -15.5.\n",
      "7 times Error(0008):\n",
      " sigmav (standard deviation of crosswind) must be larger than zero.\n",
      "21 times Error(0009):\n",
      " ustar (friction velocity) must be >=0.1.\n"
     ]
    },
    {
     "name": "stdout",
     "output_type": "stream",
     "text": [
      "GeoTIFF saved as new_summer_5_unstable.tif\n"
     ]
    }
   ],
   "source": [
    "# Constants and parameters\n",
    "zm_s = 5.66  # Measurement height [m] from AMF metadata\n",
    "h_s = 2000.  # Height of atmospheric boundary layer [m] - assumed\n",
    "h_c = np.array(df2['z0'].tolist())  # Height of atmospheric boundary layer [m]\n",
    "dx = 0.5  # Model resolution [m]\n",
    "origin_d = 200.  # Model bounds distance from origin [m]\n",
    "\n",
    "# Station coordinates (lat, long)\n",
    "latitude = 22.53809845\n",
    "longitude = 72.98046952\n",
    "station_coord = (latitude, longitude)\n",
    "\n",
    "# Calculate the appropriate EPSG code for UTM based on latitude and longitude\n",
    "EPSG = int(32700 - np.round((45 + latitude) / 90.0) * 100 + np.round((183 + longitude) / 6.0))\n",
    "\n",
    "# Use pyproj to transform from lat/long (EPSG:4326) to UTM coordinates\n",
    "transformer = pyproj.Transformer.from_crs(\"EPSG:4326\", f\"EPSG:{EPSG}\", always_xy=True)\n",
    "station_x, station_y = transformer.transform(longitude, latitude)\n",
    "\n",
    "# Check the UTM coordinate results\n",
    "print(f\"Station coordinates in UTM: X = {station_x}, Y = {station_y}, EPSG = {EPSG}\")\n",
    "\n",
    "# Placeholder for the FFP model (assuming fkm is properly defined and used in your environment)\n",
    "# Initialize FFP model\n",
    "ffp = fkm.FKM_climatology(domain=[-origin_d, origin_d, -origin_d, origin_d],\n",
    "                           dx=dx, dy=dx,\n",
    "                           zm=df2['Zm_2'].tolist(), \n",
    "                           z0=df2['z0'].tolist(), \n",
    "                           umean=df2['umean'].tolist(),\n",
    "                           ol=df2['ol'].tolist(), \n",
    "                           sigmav=df2['sigma_v'].tolist(), \n",
    "                           ustar=df2['u_star'].tolist(), \n",
    "                           wind_dir=df2['wind_dir'].tolist())\n",
    "\n",
    "# Process the footprint data (assuming ffp returns the correct structure)\n",
    "f_2d = np.array(ffp['fclim_2d']) \n",
    "x_2d = np.array(ffp['x_2d']) + station_x\n",
    "y_2d = np.array(ffp['y_2d']) + station_y\n",
    "f_2d = f_2d * dx ** 2 \n",
    "\n",
    "# Create affine transformation for the GeoTIFF\n",
    "affine_transform = from_origin(station_x - origin_d, station_y + origin_d, dx, dx)\n",
    "\n",
    "# Set CRS (Coordinate Reference System) using rasterio's CRS\n",
    "utm_crs = pyproj.CRS.from_epsg(EPSG).to_wkt()\n",
    "# Prepare to write the GeoTIFF file\n",
    "out_f = 'new_summer_5_unstable.tif'\n",
    "with rasterio.open(out_f, 'w', driver='GTiff', dtype=rasterio.float64,\n",
    "                   count=1,  # Only one band for this footprint\n",
    "                   height=f_2d.shape[0], width=f_2d.shape[1],\n",
    "                   transform=affine_transform,\n",
    "                   crs=utm_crs,\n",
    "                   nodata=0.0) as new_dat:\n",
    "    new_dat.write(f_2d, 1)  # Write to the first band\n",
    "\n",
    "print(f\"GeoTIFF saved as {out_f}\")"
   ]
  },
  {
   "cell_type": "code",
   "execution_count": 29,
   "metadata": {},
   "outputs": [
    {
     "name": "stdout",
     "output_type": "stream",
     "text": [
      "Station coordinates in UTM: X = 292307.3593888789, Y = 2493792.267627137, EPSG = 32643\n",
      "Percent: [--------------------------------------------------] 0.0% "
     ]
    },
    {
     "name": "stderr",
     "output_type": "stream",
     "text": [
      "d:\\AAU\\Module_3\\Project_mo_3\\scripts\\scripts\\footprint_FKM_climatology.py:294: RuntimeWarning: divide by zero encountered in divide\n",
      "  help3 = C*numpy.exp(-B/x_ma)*(x_ma**(-A))\n",
      "d:\\AAU\\Module_3\\Project_mo_3\\scripts\\scripts\\footprint_FKM_climatology.py:294: RuntimeWarning: overflow encountered in exp\n",
      "  help3 = C*numpy.exp(-B/x_ma)*(x_ma**(-A))\n",
      "d:\\AAU\\Module_3\\Project_mo_3\\scripts\\scripts\\footprint_FKM_climatology.py:294: RuntimeWarning: overflow encountered in multiply\n",
      "  help3 = C*numpy.exp(-B/x_ma)*(x_ma**(-A))\n"
     ]
    },
    {
     "name": "stdout",
     "output_type": "stream",
     "text": [
      "Percent: [################################################--] 96.0% 99999999999%  "
     ]
    },
    {
     "name": "stderr",
     "output_type": "stream",
     "text": [
      "45 times Error(0007):\n",
      " zm/ol (measurement height to Obukhov length ratio) must be equal or larger than -15.5.\n",
      "1 times Error(0008):\n",
      " sigmav (standard deviation of crosswind) must be larger than zero.\n",
      "84 times Error(0009):\n",
      " ustar (friction velocity) must be >=0.1.\n"
     ]
    },
    {
     "name": "stdout",
     "output_type": "stream",
     "text": [
      "GeoTIFF saved as new_autmn_5_stable.tif\n"
     ]
    }
   ],
   "source": [
    "# Constants and parameters\n",
    "zm_s = 5.66  # Measurement height [m] from AMF metadata\n",
    "h_s = 2000.  # Height of atmospheric boundary layer [m] - assumed\n",
    "h_c = np.array(df4['z0'].tolist())  # Height of atmospheric boundary layer [m]\n",
    "dx = 0.5  # Model resolution [m]\n",
    "origin_d = 200.  # Model bounds distance from origin [m]\n",
    "\n",
    "# Station coordinates (lat, long)\n",
    "latitude = 22.53809845\n",
    "longitude = 72.98046952\n",
    "station_coord = (latitude, longitude)\n",
    "\n",
    "# Calculate the appropriate EPSG code for UTM based on latitude and longitude\n",
    "EPSG = int(32700 - np.round((45 + latitude) / 90.0) * 100 + np.round((183 + longitude) / 6.0))\n",
    "\n",
    "# Use pyproj to transform from lat/long (EPSG:4326) to UTM coordinates\n",
    "transformer = pyproj.Transformer.from_crs(\"EPSG:4326\", f\"EPSG:{EPSG}\", always_xy=True)\n",
    "station_x, station_y = transformer.transform(longitude, latitude)\n",
    "\n",
    "# Check the UTM coordinate results\n",
    "print(f\"Station coordinates in UTM: X = {station_x}, Y = {station_y}, EPSG = {EPSG}\")\n",
    "\n",
    "# Placeholder for the FFP model (assuming fkm is properly defined and used in your environment)\n",
    "# Initialize FFP model\n",
    "ffp = fkm.FKM_climatology(domain=[-origin_d, origin_d, -origin_d, origin_d],\n",
    "                           dx=dx, dy=dx,\n",
    "                           zm=df4['Zm_2'].tolist(), \n",
    "                           z0=df4['z0'].tolist(), \n",
    "                           umean=df4['umean'].tolist(),\n",
    "                           ol=df4['ol'].tolist(), \n",
    "                           sigmav=df4['sigma_v'].tolist(), \n",
    "                           ustar=df4['u_star'].tolist(), \n",
    "                           wind_dir=df4['wind_dir'].tolist())\n",
    "\n",
    "# Process the footprint data (assuming ffp returns the correct structure)\n",
    "f_2d = np.array(ffp['fclim_2d']) \n",
    "x_2d = np.array(ffp['x_2d']) + station_x\n",
    "y_2d = np.array(ffp['y_2d']) + station_y\n",
    "f_2d = f_2d * dx ** 2 \n",
    "\n",
    "# Create affine transformation for the GeoTIFF\n",
    "affine_transform = from_origin(station_x - origin_d, station_y + origin_d, dx, dx)\n",
    "\n",
    "# Set CRS (Coordinate Reference System) using rasterio's CRS\n",
    "utm_crs = pyproj.CRS.from_epsg(EPSG).to_wkt()\n",
    "# Prepare to write the GeoTIFF file\n",
    "out_f = 'new_autmn_5_stable.tif'\n",
    "with rasterio.open(out_f, 'w', driver='GTiff', dtype=rasterio.float64,\n",
    "                   count=1,  # Only one band for this footprint\n",
    "                   height=f_2d.shape[0], width=f_2d.shape[1],\n",
    "                   transform=affine_transform,\n",
    "                   crs=utm_crs,\n",
    "                   nodata=0.0) as new_dat:\n",
    "    new_dat.write(f_2d, 1)  # Write to the first band\n",
    "\n",
    "print(f\"GeoTIFF saved as {out_f}\")"
   ]
  },
  {
   "cell_type": "code",
   "execution_count": null,
   "metadata": {},
   "outputs": [],
   "source": []
  },
  {
   "cell_type": "code",
   "execution_count": 8,
   "metadata": {},
   "outputs": [],
   "source": [
    "# df4['mm'].unique()"
   ]
  },
  {
   "cell_type": "code",
   "execution_count": 17,
   "metadata": {},
   "outputs": [
    {
     "name": "stdout",
     "output_type": "stream",
     "text": [
      "Station coordinates in UTM: X = 292307.3593888789, Y = 2493792.267627137, EPSG = 32643\n",
      "Percent: [--------------------------------------------------] 0.0% "
     ]
    },
    {
     "name": "stdout",
     "output_type": "stream",
     "text": [
      "Percent: [#################---------------------------------] 35.0% "
     ]
    },
    {
     "name": "stderr",
     "output_type": "stream",
     "text": [
      "d:\\AAU\\Module_3\\Project_mo_3\\scripts\\scripts\\footprint_FKM_climatology.py:272: RuntimeWarning: invalid value encountered in scalar power\n",
      "  C = (B**mu) /GammaProxmu\n",
      "d:\\AAU\\Module_3\\Project_mo_3\\scripts\\scripts\\footprint_FKM_climatology.py:273: RuntimeWarning: invalid value encountered in scalar power\n",
      "  D = sigmav * GammaProx1r / GammaProxmu / ((r * r * Kmaj / Umaj)**(m / r)) / Umaj\n"
     ]
    },
    {
     "name": "stdout",
     "output_type": "stream",
     "text": [
      "Percent: [##################################################] 99.0% 00000000001% "
     ]
    },
    {
     "name": "stderr",
     "output_type": "stream",
     "text": [
      "53 times Error(0007):\n",
      " zm/ol (measurement height to Obukhov length ratio) must be equal or larger than -15.5.\n",
      "2 times Error(0008):\n",
      " sigmav (standard deviation of crosswind) must be larger than zero.\n",
      "18 times Error(0009):\n",
      " ustar (friction velocity) must be >=0.1.\n"
     ]
    },
    {
     "name": "stdout",
     "output_type": "stream",
     "text": [
      "GeoTIFF saved as new_winter_2_unstable.tif\n"
     ]
    }
   ],
   "source": [
    "# Constants and parameters\n",
    "zm_s = 2.83  # Measurement height [m] from AMF metadata\n",
    "h_s = 2000.  # Height of atmospheric boundary layer [m] - assumed\n",
    "h_c = np.array(df1['z0'].tolist())  # Height of atmospheric boundary layer [m]\n",
    "dx = 0.5  # Model resolution [m]\n",
    "origin_d = 200.  # Model bounds distance from origin [m]\n",
    "\n",
    "# Station coordinates (lat, long)\n",
    "latitude = 22.53809845\n",
    "longitude = 72.98046952\n",
    "station_coord = (latitude, longitude)\n",
    "\n",
    "# Calculate the appropriate EPSG code for UTM based on latitude and longitude\n",
    "EPSG = int(32700 - np.round((45 + latitude) / 90.0) * 100 + np.round((183 + longitude) / 6.0))\n",
    "\n",
    "# Use pyproj to transform from lat/long (EPSG:4326) to UTM coordinates\n",
    "transformer = pyproj.Transformer.from_crs(\"EPSG:4326\", f\"EPSG:{EPSG}\", always_xy=True)\n",
    "station_x, station_y = transformer.transform(longitude, latitude)\n",
    "\n",
    "# Check the UTM coordinate results\n",
    "print(f\"Station coordinates in UTM: X = {station_x}, Y = {station_y}, EPSG = {EPSG}\")\n",
    "\n",
    "# Placeholder for the FFP model (assuming fkm is properly defined and used in your environment)\n",
    "# Initialize FFP model\n",
    "ffp = fkm.FKM_climatology(domain=[-origin_d, origin_d, -origin_d, origin_d],\n",
    "                           dx=dx, dy=dx,\n",
    "                           zm=df1['Zm_1'].tolist(), \n",
    "                           z0=df1['z0'].tolist(), \n",
    "                           umean=df1['umean1'].tolist(),\n",
    "                           ol=df1['ol'].tolist(), \n",
    "                           sigmav=df1['sigma_v'].tolist(), \n",
    "                           ustar=df1['u_star'].tolist(), \n",
    "                           wind_dir=df1['wind_dir'].tolist())\n",
    "\n",
    "# Process the footprint data (assuming ffp returns the correct structure)\n",
    "f_2d = np.array(ffp['fclim_2d']) \n",
    "x_2d = np.array(ffp['x_2d']) + station_x\n",
    "y_2d = np.array(ffp['y_2d']) + station_y\n",
    "f_2d = f_2d * dx ** 2 \n",
    "\n",
    "# Create affine transformation for the GeoTIFF\n",
    "affine_transform = from_origin(station_x - origin_d, station_y + origin_d, dx, dx)\n",
    "\n",
    "# Set CRS (Coordinate Reference System) using rasterio's CRS\n",
    "utm_crs = pyproj.CRS.from_epsg(EPSG).to_wkt()\n",
    "# Prepare to write the GeoTIFF file\n",
    "out_f = 'new_winter_2_unstable.tif'\n",
    "with rasterio.open(out_f, 'w', driver='GTiff', dtype=rasterio.float64,\n",
    "                   count=1,  # Only one band for this footprint\n",
    "                   height=f_2d.shape[0], width=f_2d.shape[1],\n",
    "                   transform=affine_transform,\n",
    "                   crs=utm_crs,\n",
    "                   nodata=0.0) as new_dat:\n",
    "    new_dat.write(f_2d, 1)  # Write to the first band\n",
    "\n",
    "print(f\"GeoTIFF saved as {out_f}\")"
   ]
  },
  {
   "cell_type": "code",
   "execution_count": 18,
   "metadata": {},
   "outputs": [],
   "source": [
    "# plt.figure(figsize=(14,14))\n",
    "# src = rasterio.open(\"winter.tif\")\n",
    "# show(src)"
   ]
  },
  {
   "cell_type": "code",
   "execution_count": 19,
   "metadata": {},
   "outputs": [
    {
     "name": "stdout",
     "output_type": "stream",
     "text": [
      "Station coordinates in UTM: X = 292307.3593888789, Y = 2493792.267627137, EPSG = 32643\n",
      "Percent: [--------------------------------------------------] 0.0% "
     ]
    },
    {
     "name": "stdout",
     "output_type": "stream",
     "text": [
      "Percent: [##################################################] 99.0% 00000000001% "
     ]
    },
    {
     "name": "stderr",
     "output_type": "stream",
     "text": [
      "75 times Error(0007):\n",
      " zm/ol (measurement height to Obukhov length ratio) must be equal or larger than -15.5.\n",
      "9 times Error(0008):\n",
      " sigmav (standard deviation of crosswind) must be larger than zero.\n",
      "26 times Error(0009):\n",
      " ustar (friction velocity) must be >=0.1.\n"
     ]
    },
    {
     "name": "stdout",
     "output_type": "stream",
     "text": [
      "GeoTIFF saved as new_Summer_2_unstable.tif\n"
     ]
    }
   ],
   "source": [
    "# Constants and parameters\n",
    "zm_s = 2.83  # Measurement height [m] from AMF metadata\n",
    "h_s = 2000.  # Height of atmospheric boundary layer [m] - assumed\n",
    "h_c = np.array(df2['z0'].tolist())  # Height of atmospheric boundary layer [m]\n",
    "dx = 0.5  # Model resolution [m]\n",
    "origin_d = 200.  # Model bounds distance from origin [m]\n",
    "\n",
    "# Station coordinates (lat, long)\n",
    "latitude = 22.53809845\n",
    "longitude = 72.98046952\n",
    "station_coord = (latitude, longitude)\n",
    "\n",
    "# Calculate the appropriate EPSG code for UTM based on latitude and longitude\n",
    "EPSG = int(32700 - np.round((45 + latitude) / 90.0) * 100 + np.round((183 + longitude) / 6.0))\n",
    "\n",
    "# Use pyproj to transform from lat/long (EPSG:4326) to UTM coordinates\n",
    "transformer = pyproj.Transformer.from_crs(\"EPSG:4326\", f\"EPSG:{EPSG}\", always_xy=True)\n",
    "station_x, station_y = transformer.transform(longitude, latitude)\n",
    "\n",
    "# Check the UTM coordinate results\n",
    "print(f\"Station coordinates in UTM: X = {station_x}, Y = {station_y}, EPSG = {EPSG}\")\n",
    "\n",
    "# Placeholder for the FFP model (assuming fkm is properly defined and used in your environment)\n",
    "# Initialize FFP model\n",
    "ffp = fkm.FKM_climatology(domain=[-origin_d, origin_d, -origin_d, origin_d],\n",
    "                           dx=dx, dy=dx,\n",
    "                           zm=df2['Zm_1'].tolist(), \n",
    "                           z0=df2['z0'].tolist(), \n",
    "                           umean=df2['umean1'].tolist(),\n",
    "                           ol=df2['ol'].tolist(), \n",
    "                           sigmav=df2['sigma_v'].tolist(), \n",
    "                           ustar=df2['u_star'].tolist(), \n",
    "                           wind_dir=df2['wind_dir'].tolist())\n",
    "\n",
    "# Process the footprint data (assuming ffp returns the correct structure)\n",
    "f_2d = np.array(ffp['fclim_2d']) \n",
    "x_2d = np.array(ffp['x_2d']) + station_x\n",
    "y_2d = np.array(ffp['y_2d']) + station_y\n",
    "f_2d = f_2d * dx ** 2 \n",
    "\n",
    "# Create affine transformation for the GeoTIFF\n",
    "affine_transform = from_origin(station_x - origin_d, station_y + origin_d, dx, dx)\n",
    "\n",
    "# Set CRS (Coordinate Reference System) using rasterio's CRS\n",
    "utm_crs = pyproj.CRS.from_epsg(EPSG).to_wkt()\n",
    "# Prepare to write the GeoTIFF file\n",
    "out_f = 'new_Summer_2_unstable.tif'\n",
    "with rasterio.open(out_f, 'w', driver='GTiff', dtype=rasterio.float64,\n",
    "                   count=1,  # Only one band for this footprint\n",
    "                   height=f_2d.shape[0], width=f_2d.shape[1],\n",
    "                   transform=affine_transform,\n",
    "                   crs=utm_crs,\n",
    "                   nodata=0.0) as new_dat:\n",
    "    new_dat.write(f_2d, 1)  # Write to the first band\n",
    "\n",
    "print(f\"GeoTIFF saved as {out_f}\")"
   ]
  },
  {
   "cell_type": "code",
   "execution_count": 20,
   "metadata": {},
   "outputs": [
    {
     "name": "stdout",
     "output_type": "stream",
     "text": [
      "Station coordinates in UTM: X = 292307.3593888789, Y = 2493792.267627137, EPSG = 32643\n",
      "Percent: [--------------------------------------------------] 0.0% "
     ]
    },
    {
     "name": "stdout",
     "output_type": "stream",
     "text": [
      "Percent: [################################################--] 95.0% 00000000001% "
     ]
    },
    {
     "name": "stderr",
     "output_type": "stream",
     "text": [
      "54 times Error(0007):\n",
      " zm/ol (measurement height to Obukhov length ratio) must be equal or larger than -15.5.\n",
      "8 times Error(0008):\n",
      " sigmav (standard deviation of crosswind) must be larger than zero.\n",
      "41 times Error(0009):\n",
      " ustar (friction velocity) must be >=0.1.\n"
     ]
    },
    {
     "name": "stdout",
     "output_type": "stream",
     "text": [
      "GeoTIFF saved as new_monsoon_2_unstable.tif\n"
     ]
    }
   ],
   "source": [
    "# Constants and parameters\n",
    "zm_s = 2.83  # Measurement height [m] from AMF metadata\n",
    "h_s = 2000.  # Height of atmospheric boundary layer [m] - assumed\n",
    "h_c = np.array(df3['z0'].tolist())  # Height of atmospheric boundary layer [m]\n",
    "dx = 0.5  # Model resolution [m]\n",
    "origin_d = 200.  # Model bounds distance from origin [m]\n",
    "\n",
    "# Station coordinates (lat, long)\n",
    "latitude = 22.53809845\n",
    "longitude = 72.98046952\n",
    "station_coord = (latitude, longitude)\n",
    "\n",
    "# Calculate the appropriate EPSG code for UTM based on latitude and longitude\n",
    "EPSG = int(32700 - np.round((45 + latitude) / 90.0) * 100 + np.round((183 + longitude) / 6.0))\n",
    "\n",
    "# Use pyproj to transform from lat/long (EPSG:4326) to UTM coordinates\n",
    "transformer = pyproj.Transformer.from_crs(\"EPSG:4326\", f\"EPSG:{EPSG}\", always_xy=True)\n",
    "station_x, station_y = transformer.transform(longitude, latitude)\n",
    "\n",
    "# Check the UTM coordinate results\n",
    "print(f\"Station coordinates in UTM: X = {station_x}, Y = {station_y}, EPSG = {EPSG}\")\n",
    "\n",
    "# Placeholder for the FFP model (assuming fkm is properly defined and used in your environment)\n",
    "# Initialize FFP model\n",
    "ffp = fkm.FKM_climatology(domain=[-origin_d, origin_d, -origin_d, origin_d],\n",
    "                           dx=dx, dy=dx,\n",
    "                           zm=df3['Zm_1'].tolist(), \n",
    "                           z0=df3['z0'].tolist(), \n",
    "                           umean=df3['umean1'].tolist(),\n",
    "                           ol=df3['ol'].tolist(), \n",
    "                           sigmav=df3['sigma_v'].tolist(), \n",
    "                           ustar=df3['u_star'].tolist(), \n",
    "                           wind_dir=df3['wind_dir'].tolist())\n",
    "\n",
    "# Process the footprint data (assuming ffp returns the correct structure)\n",
    "f_2d = np.array(ffp['fclim_2d']) \n",
    "x_2d = np.array(ffp['x_2d']) + station_x\n",
    "y_2d = np.array(ffp['y_2d']) + station_y\n",
    "f_2d = f_2d * dx ** 2 \n",
    "\n",
    "# Create affine transformation for the GeoTIFF\n",
    "affine_transform = from_origin(station_x - origin_d, station_y + origin_d, dx, dx)\n",
    "\n",
    "# Set CRS (Coordinate Reference System) using rasterio's CRS\n",
    "utm_crs = pyproj.CRS.from_epsg(EPSG).to_wkt()\n",
    "# Prepare to write the GeoTIFF file\n",
    "out_f = 'new_monsoon_2_unstable.tif'\n",
    "with rasterio.open(out_f, 'w', driver='GTiff', dtype=rasterio.float64,\n",
    "                   count=1,  # Only one band for this footprint\n",
    "                   height=f_2d.shape[0], width=f_2d.shape[1],\n",
    "                   transform=affine_transform,\n",
    "                   crs=utm_crs,\n",
    "                   nodata=0.0) as new_dat:\n",
    "    new_dat.write(f_2d, 1)  # Write to the first band\n",
    "\n",
    "print(f\"GeoTIFF saved as {out_f}\")"
   ]
  },
  {
   "cell_type": "code",
   "execution_count": 21,
   "metadata": {},
   "outputs": [
    {
     "name": "stdout",
     "output_type": "stream",
     "text": [
      "Station coordinates in UTM: X = 292307.3593888789, Y = 2493792.267627137, EPSG = 32643\n",
      "Percent: [--------------------------------------------------] 0.0% "
     ]
    },
    {
     "name": "stdout",
     "output_type": "stream",
     "text": [
      "Percent: [#################################################-] 98.0% "
     ]
    },
    {
     "name": "stderr",
     "output_type": "stream",
     "text": [
      "5 times Error(0007):\n",
      " zm/ol (measurement height to Obukhov length ratio) must be equal or larger than -15.5.\n",
      "2 times Error(0008):\n",
      " sigmav (standard deviation of crosswind) must be larger than zero.\n",
      "10 times Error(0009):\n",
      " ustar (friction velocity) must be >=0.1.\n"
     ]
    },
    {
     "name": "stdout",
     "output_type": "stream",
     "text": [
      "GeoTIFF saved as new_autumn_2_unstable.tif\n"
     ]
    }
   ],
   "source": [
    "# Constants and parameters\n",
    "zm_s = 2.83  # Measurement height [m] from AMF metadata\n",
    "h_s = 2000.  # Height of atmospheric boundary layer [m] - assumed\n",
    "h_c = np.array(df4['z0'].tolist())  # Height of atmospheric boundary layer [m]\n",
    "dx = 0.5  # Model resolution [m]\n",
    "origin_d = 200.  # Model bounds distance from origin [m]\n",
    "\n",
    "# Station coordinates (lat, long)\n",
    "latitude = 22.53809845\n",
    "longitude = 72.98046952\n",
    "station_coord = (latitude, longitude)\n",
    "\n",
    "# Calculate the appropriate EPSG code for UTM based on latitude and longitude\n",
    "EPSG = int(32700 - np.round((45 + latitude) / 90.0) * 100 + np.round((183 + longitude) / 6.0))\n",
    "\n",
    "# Use pyproj to transform from lat/long (EPSG:4326) to UTM coordinates\n",
    "transformer = pyproj.Transformer.from_crs(\"EPSG:4326\", f\"EPSG:{EPSG}\", always_xy=True)\n",
    "station_x, station_y = transformer.transform(longitude, latitude)\n",
    "\n",
    "# Check the UTM coordinate results\n",
    "print(f\"Station coordinates in UTM: X = {station_x}, Y = {station_y}, EPSG = {EPSG}\")\n",
    "\n",
    "# Placeholder for the FFP model (assuming fkm is properly defined and used in your environment)\n",
    "# Initialize FFP model\n",
    "ffp = fkm.FKM_climatology(domain=[-origin_d, origin_d, -origin_d, origin_d],\n",
    "                           dx=dx, dy=dx,\n",
    "                           zm=df4['Zm_1'].tolist(), \n",
    "                           z0=df4['z0'].tolist(), \n",
    "                           umean=df4['umean1'].tolist(),\n",
    "                           ol=df4['ol'].tolist(), \n",
    "                           sigmav=df4['sigma_v'].tolist(), \n",
    "                           ustar=df4['u_star'].tolist(), \n",
    "                           wind_dir=df4['wind_dir'].tolist())\n",
    "\n",
    "# Process the footprint data (assuming ffp returns the correct structure)\n",
    "f_2d = np.array(ffp['fclim_2d']) \n",
    "x_2d = np.array(ffp['x_2d']) + station_x\n",
    "y_2d = np.array(ffp['y_2d']) + station_y\n",
    "f_2d = f_2d * dx ** 2 \n",
    "\n",
    "# Create affine transformation for the GeoTIFF\n",
    "affine_transform = from_origin(station_x - origin_d, station_y + origin_d, dx, dx)\n",
    "\n",
    "# Set CRS (Coordinate Reference System) using rasterio's CRS\n",
    "utm_crs = pyproj.CRS.from_epsg(EPSG).to_wkt()\n",
    "# Prepare to write the GeoTIFF file\n",
    "out_f = 'new_autumn_2_unstable.tif'\n",
    "with rasterio.open(out_f, 'w', driver='GTiff', dtype=rasterio.float64,\n",
    "                   count=1,  # Only one band for this footprint\n",
    "                   height=f_2d.shape[0], width=f_2d.shape[1],\n",
    "                   transform=affine_transform,\n",
    "                   crs=utm_crs,\n",
    "                   nodata=0.0) as new_dat:\n",
    "    new_dat.write(f_2d, 1)  # Write to the first band\n",
    "\n",
    "print(f\"GeoTIFF saved as {out_f}\")"
   ]
  },
  {
   "cell_type": "code",
   "execution_count": null,
   "metadata": {},
   "outputs": [],
   "source": []
  },
  {
   "cell_type": "code",
   "execution_count": 13,
   "metadata": {},
   "outputs": [],
   "source": [
    "dff = pd.read_csv('unstable.csv')"
   ]
  },
  {
   "cell_type": "code",
   "execution_count": 14,
   "metadata": {},
   "outputs": [
    {
     "data": {
      "text/html": [
       "<div>\n",
       "<style scoped>\n",
       "    .dataframe tbody tr th:only-of-type {\n",
       "        vertical-align: middle;\n",
       "    }\n",
       "\n",
       "    .dataframe tbody tr th {\n",
       "        vertical-align: top;\n",
       "    }\n",
       "\n",
       "    .dataframe thead th {\n",
       "        text-align: right;\n",
       "    }\n",
       "</style>\n",
       "<table border=\"1\" class=\"dataframe\">\n",
       "  <thead>\n",
       "    <tr style=\"text-align: right;\">\n",
       "      <th></th>\n",
       "      <th>mm</th>\n",
       "      <th>day</th>\n",
       "      <th>yyyy</th>\n",
       "      <th>HH_UTC</th>\n",
       "      <th>MM</th>\n",
       "      <th>umean1</th>\n",
       "      <th>umean</th>\n",
       "      <th>wind_dir</th>\n",
       "      <th>z0</th>\n",
       "      <th>ol</th>\n",
       "      <th>u_star</th>\n",
       "      <th>sigma_v</th>\n",
       "      <th>Zm_1</th>\n",
       "      <th>Zm_2</th>\n",
       "    </tr>\n",
       "  </thead>\n",
       "  <tbody>\n",
       "    <tr>\n",
       "      <th>0</th>\n",
       "      <td>1</td>\n",
       "      <td>1</td>\n",
       "      <td>2009</td>\n",
       "      <td>9</td>\n",
       "      <td>4</td>\n",
       "      <td>3.95</td>\n",
       "      <td>4.40</td>\n",
       "      <td>357</td>\n",
       "      <td>0.011764</td>\n",
       "      <td>-105.0200</td>\n",
       "      <td>0.30006</td>\n",
       "      <td>0.17</td>\n",
       "      <td>2.83</td>\n",
       "      <td>5.66</td>\n",
       "    </tr>\n",
       "    <tr>\n",
       "      <th>1</th>\n",
       "      <td>1</td>\n",
       "      <td>1</td>\n",
       "      <td>2009</td>\n",
       "      <td>10</td>\n",
       "      <td>2</td>\n",
       "      <td>3.55</td>\n",
       "      <td>4.05</td>\n",
       "      <td>356</td>\n",
       "      <td>0.146380</td>\n",
       "      <td>-6.0125</td>\n",
       "      <td>0.63830</td>\n",
       "      <td>0.42</td>\n",
       "      <td>2.83</td>\n",
       "      <td>5.66</td>\n",
       "    </tr>\n",
       "    <tr>\n",
       "      <th>2</th>\n",
       "      <td>1</td>\n",
       "      <td>1</td>\n",
       "      <td>2009</td>\n",
       "      <td>11</td>\n",
       "      <td>1</td>\n",
       "      <td>5.90</td>\n",
       "      <td>6.90</td>\n",
       "      <td>23</td>\n",
       "      <td>0.151490</td>\n",
       "      <td>-22.0110</td>\n",
       "      <td>0.91014</td>\n",
       "      <td>0.25</td>\n",
       "      <td>2.83</td>\n",
       "      <td>5.66</td>\n",
       "    </tr>\n",
       "    <tr>\n",
       "      <th>3</th>\n",
       "      <td>1</td>\n",
       "      <td>1</td>\n",
       "      <td>2009</td>\n",
       "      <td>11</td>\n",
       "      <td>5</td>\n",
       "      <td>2.40</td>\n",
       "      <td>2.95</td>\n",
       "      <td>30</td>\n",
       "      <td>0.182490</td>\n",
       "      <td>-85.7220</td>\n",
       "      <td>0.37356</td>\n",
       "      <td>0.13</td>\n",
       "      <td>2.83</td>\n",
       "      <td>5.66</td>\n",
       "    </tr>\n",
       "    <tr>\n",
       "      <th>4</th>\n",
       "      <td>1</td>\n",
       "      <td>1</td>\n",
       "      <td>2009</td>\n",
       "      <td>13</td>\n",
       "      <td>0</td>\n",
       "      <td>3.95</td>\n",
       "      <td>4.95</td>\n",
       "      <td>33</td>\n",
       "      <td>0.338130</td>\n",
       "      <td>-23.6200</td>\n",
       "      <td>0.87134</td>\n",
       "      <td>0.57</td>\n",
       "      <td>2.83</td>\n",
       "      <td>5.66</td>\n",
       "    </tr>\n",
       "    <tr>\n",
       "      <th>...</th>\n",
       "      <td>...</td>\n",
       "      <td>...</td>\n",
       "      <td>...</td>\n",
       "      <td>...</td>\n",
       "      <td>...</td>\n",
       "      <td>...</td>\n",
       "      <td>...</td>\n",
       "      <td>...</td>\n",
       "      <td>...</td>\n",
       "      <td>...</td>\n",
       "      <td>...</td>\n",
       "      <td>...</td>\n",
       "      <td>...</td>\n",
       "      <td>...</td>\n",
       "    </tr>\n",
       "    <tr>\n",
       "      <th>3461</th>\n",
       "      <td>12</td>\n",
       "      <td>27</td>\n",
       "      <td>2009</td>\n",
       "      <td>12</td>\n",
       "      <td>2</td>\n",
       "      <td>2.10</td>\n",
       "      <td>2.65</td>\n",
       "      <td>39</td>\n",
       "      <td>0.212590</td>\n",
       "      <td>-705.2400</td>\n",
       "      <td>0.33336</td>\n",
       "      <td>0.63</td>\n",
       "      <td>NaN</td>\n",
       "      <td>NaN</td>\n",
       "    </tr>\n",
       "    <tr>\n",
       "      <th>3462</th>\n",
       "      <td>12</td>\n",
       "      <td>28</td>\n",
       "      <td>2009</td>\n",
       "      <td>12</td>\n",
       "      <td>0</td>\n",
       "      <td>1.70</td>\n",
       "      <td>2.70</td>\n",
       "      <td>298</td>\n",
       "      <td>0.917510</td>\n",
       "      <td>-518.5200</td>\n",
       "      <td>0.61677</td>\n",
       "      <td>0.23</td>\n",
       "      <td>NaN</td>\n",
       "      <td>NaN</td>\n",
       "    </tr>\n",
       "    <tr>\n",
       "      <th>3463</th>\n",
       "      <td>12</td>\n",
       "      <td>29</td>\n",
       "      <td>2009</td>\n",
       "      <td>11</td>\n",
       "      <td>5</td>\n",
       "      <td>0.40</td>\n",
       "      <td>0.95</td>\n",
       "      <td>358</td>\n",
       "      <td>1.499400</td>\n",
       "      <td>-21.5680</td>\n",
       "      <td>0.48090</td>\n",
       "      <td>0.16</td>\n",
       "      <td>NaN</td>\n",
       "      <td>NaN</td>\n",
       "    </tr>\n",
       "    <tr>\n",
       "      <th>3464</th>\n",
       "      <td>12</td>\n",
       "      <td>29</td>\n",
       "      <td>2009</td>\n",
       "      <td>12</td>\n",
       "      <td>2</td>\n",
       "      <td>0.65</td>\n",
       "      <td>1.50</td>\n",
       "      <td>222</td>\n",
       "      <td>1.675400</td>\n",
       "      <td>-45.6680</td>\n",
       "      <td>0.67442</td>\n",
       "      <td>0.15</td>\n",
       "      <td>NaN</td>\n",
       "      <td>NaN</td>\n",
       "    </tr>\n",
       "    <tr>\n",
       "      <th>3465</th>\n",
       "      <td>12</td>\n",
       "      <td>30</td>\n",
       "      <td>2009</td>\n",
       "      <td>11</td>\n",
       "      <td>3</td>\n",
       "      <td>1.00</td>\n",
       "      <td>1.35</td>\n",
       "      <td>325</td>\n",
       "      <td>0.495030</td>\n",
       "      <td>-20.6370</td>\n",
       "      <td>0.29247</td>\n",
       "      <td>0.62</td>\n",
       "      <td>NaN</td>\n",
       "      <td>NaN</td>\n",
       "    </tr>\n",
       "  </tbody>\n",
       "</table>\n",
       "<p>3466 rows × 14 columns</p>\n",
       "</div>"
      ],
      "text/plain": [
       "      mm  day  yyyy  HH_UTC  MM  umean1  umean  wind_dir        z0        ol  \\\n",
       "0      1    1  2009       9   4    3.95   4.40       357  0.011764 -105.0200   \n",
       "1      1    1  2009      10   2    3.55   4.05       356  0.146380   -6.0125   \n",
       "2      1    1  2009      11   1    5.90   6.90        23  0.151490  -22.0110   \n",
       "3      1    1  2009      11   5    2.40   2.95        30  0.182490  -85.7220   \n",
       "4      1    1  2009      13   0    3.95   4.95        33  0.338130  -23.6200   \n",
       "...   ..  ...   ...     ...  ..     ...    ...       ...       ...       ...   \n",
       "3461  12   27  2009      12   2    2.10   2.65        39  0.212590 -705.2400   \n",
       "3462  12   28  2009      12   0    1.70   2.70       298  0.917510 -518.5200   \n",
       "3463  12   29  2009      11   5    0.40   0.95       358  1.499400  -21.5680   \n",
       "3464  12   29  2009      12   2    0.65   1.50       222  1.675400  -45.6680   \n",
       "3465  12   30  2009      11   3    1.00   1.35       325  0.495030  -20.6370   \n",
       "\n",
       "       u_star  sigma_v  Zm_1  Zm_2  \n",
       "0     0.30006     0.17  2.83  5.66  \n",
       "1     0.63830     0.42  2.83  5.66  \n",
       "2     0.91014     0.25  2.83  5.66  \n",
       "3     0.37356     0.13  2.83  5.66  \n",
       "4     0.87134     0.57  2.83  5.66  \n",
       "...       ...      ...   ...   ...  \n",
       "3461  0.33336     0.63   NaN   NaN  \n",
       "3462  0.61677     0.23   NaN   NaN  \n",
       "3463  0.48090     0.16   NaN   NaN  \n",
       "3464  0.67442     0.15   NaN   NaN  \n",
       "3465  0.29247     0.62   NaN   NaN  \n",
       "\n",
       "[3466 rows x 14 columns]"
      ]
     },
     "execution_count": 14,
     "metadata": {},
     "output_type": "execute_result"
    }
   ],
   "source": [
    "dff"
   ]
  },
  {
   "cell_type": "code",
   "execution_count": 9,
   "metadata": {},
   "outputs": [
    {
     "name": "stdout",
     "output_type": "stream",
     "text": [
      "Station coordinates in UTM: X = 292307.3593888789, Y = 2493792.267627137, EPSG = 32643\n",
      "Percent: [--------------------------------------------------] 0.0% "
     ]
    },
    {
     "name": "stderr",
     "output_type": "stream",
     "text": [
      "d:\\AAU\\Module_3\\Project_mo_3\\scripts\\scripts\\footprint_FKM_climatology.py:294: RuntimeWarning: divide by zero encountered in divide\n",
      "  help3 = C*numpy.exp(-B/x_ma)*(x_ma**(-A))\n",
      "d:\\AAU\\Module_3\\Project_mo_3\\scripts\\scripts\\footprint_FKM_climatology.py:294: RuntimeWarning: overflow encountered in exp\n",
      "  help3 = C*numpy.exp(-B/x_ma)*(x_ma**(-A))\n",
      "d:\\AAU\\Module_3\\Project_mo_3\\scripts\\scripts\\footprint_FKM_climatology.py:294: RuntimeWarning: overflow encountered in multiply\n",
      "  help3 = C*numpy.exp(-B/x_ma)*(x_ma**(-A))\n"
     ]
    },
    {
     "name": "stdout",
     "output_type": "stream",
     "text": [
      "Percent: [#######################---------------------------] 45.0% "
     ]
    },
    {
     "name": "stderr",
     "output_type": "stream",
     "text": [
      "c:\\Users\\Dell\\AppData\\Local\\Programs\\Python\\Python311\\Lib\\site-packages\\numpy\\ma\\core.py:1020: RuntimeWarning: overflow encountered in multiply\n",
      "  result = self.f(da, db, *args, **kwargs)\n"
     ]
    },
    {
     "name": "stdout",
     "output_type": "stream",
     "text": [
      "Percent: [##################################################] 100% Done...00001% \n"
     ]
    },
    {
     "name": "stderr",
     "output_type": "stream",
     "text": [
      "2 times Error(0003):\n",
      " z0 (roughness length) must be larger than zero.\n",
      "402 times Error(0007):\n",
      " zm/ol (measurement height to Obukhov length ratio) must be equal or larger than -15.5.\n",
      "14 times Error(0008):\n",
      " sigmav (standard deviation of crosswind) must be larger than zero.\n",
      "796 times Error(0009):\n",
      " ustar (friction velocity) must be >=0.1.\n"
     ]
    },
    {
     "name": "stdout",
     "output_type": "stream",
     "text": [
      "GeoTIFF saved as stable_5.tif\n"
     ]
    }
   ],
   "source": [
    "# Constants and parameters\n",
    "zm_s = 5.66  # Measurement height [m] from AMF metadata\n",
    "h_s = 2000.  # Height of atmospheric boundary layer [m] - assumed\n",
    "h_c = np.array(df['z0'].tolist())  # Height of atmospheric boundary layer [m]\n",
    "dx = 0.5  # Model resolution [m]\n",
    "origin_d = 200.  # Model bounds distance from origin [m]\n",
    "\n",
    "# Station coordinates (lat, long)\n",
    "latitude = 22.53809845\n",
    "longitude = 72.98046952\n",
    "station_coord = (latitude, longitude)\n",
    "\n",
    "# Calculate the appropriate EPSG code for UTM based on latitude and longitude\n",
    "EPSG = int(32700 - np.round((45 + latitude) / 90.0) * 100 + np.round((183 + longitude) / 6.0))\n",
    "\n",
    "# Use pyproj to transform from lat/long (EPSG:4326) to UTM coordinates\n",
    "transformer = pyproj.Transformer.from_crs(\"EPSG:4326\", f\"EPSG:{EPSG}\", always_xy=True)\n",
    "station_x, station_y = transformer.transform(longitude, latitude)\n",
    "\n",
    "# Check the UTM coordinate results\n",
    "print(f\"Station coordinates in UTM: X = {station_x}, Y = {station_y}, EPSG = {EPSG}\")\n",
    "\n",
    "# Placeholder for the FFP model (assuming fkm is properly defined and used in your environment)\n",
    "# Initialize FFP model\n",
    "ffp = fkm.FKM_climatology(domain=[-origin_d, origin_d, -origin_d, origin_d],\n",
    "                           dx=dx, dy=dx,\n",
    "                           zm=df['Zm_2'].tolist(), \n",
    "                           z0=df['z0'].tolist(), \n",
    "                           umean=df['umean'].tolist(),\n",
    "                           ol=df['ol'].tolist(), \n",
    "                           sigmav=df['sigma_v'].tolist(), \n",
    "                           ustar=df['u_star'].tolist(), \n",
    "                           wind_dir=df['wind_dir'].tolist())\n",
    "\n",
    "# Process the footprint data (assuming ffp returns the correct structure)\n",
    "f_2d = np.array(ffp['fclim_2d']) \n",
    "x_2d = np.array(ffp['x_2d']) + station_x\n",
    "y_2d = np.array(ffp['y_2d']) + station_y\n",
    "f_2d = f_2d * dx ** 2 \n",
    "\n",
    "# Create affine transformation for the GeoTIFF\n",
    "affine_transform = from_origin(station_x - origin_d, station_y + origin_d, dx, dx)\n",
    "\n",
    "# Set CRS (Coordinate Reference System) using rasterio's CRS\n",
    "utm_crs = pyproj.CRS.from_epsg(EPSG).to_wkt()\n",
    "# Prepare to write the GeoTIFF file\n",
    "out_f = 'stable_5.tif'\n",
    "with rasterio.open(out_f, 'w', driver='GTiff', dtype=rasterio.float64,\n",
    "                   count=1,  # Only one band for this footprint\n",
    "                   height=f_2d.shape[0], width=f_2d.shape[1],\n",
    "                   transform=affine_transform,\n",
    "                   crs=utm_crs,\n",
    "                   nodata=0.0) as new_dat:\n",
    "    new_dat.write(f_2d, 1)  # Write to the first band\n",
    "\n",
    "print(f\"GeoTIFF saved as {out_f}\")"
   ]
  },
  {
   "cell_type": "code",
   "execution_count": 8,
   "metadata": {},
   "outputs": [
    {
     "name": "stdout",
     "output_type": "stream",
     "text": [
      "Station coordinates in UTM: X = 292307.3593888789, Y = 2493792.267627137, EPSG = 32643\n",
      "Percent: [--------------------------------------------------] 0.0% "
     ]
    },
    {
     "name": "stderr",
     "output_type": "stream",
     "text": [
      "d:\\AAU\\Module_3\\Project_mo_3\\scripts\\scripts\\footprint_FKM_climatology.py:294: RuntimeWarning: divide by zero encountered in divide\n",
      "  help3 = C*numpy.exp(-B/x_ma)*(x_ma**(-A))\n",
      "d:\\AAU\\Module_3\\Project_mo_3\\scripts\\scripts\\footprint_FKM_climatology.py:294: RuntimeWarning: overflow encountered in exp\n",
      "  help3 = C*numpy.exp(-B/x_ma)*(x_ma**(-A))\n",
      "d:\\AAU\\Module_3\\Project_mo_3\\scripts\\scripts\\footprint_FKM_climatology.py:294: RuntimeWarning: overflow encountered in multiply\n",
      "  help3 = C*numpy.exp(-B/x_ma)*(x_ma**(-A))\n",
      "d:\\AAU\\Module_3\\Project_mo_3\\scripts\\scripts\\footprint_FKM_climatology.py:272: RuntimeWarning: invalid value encountered in scalar power\n",
      "  C = (B**mu) /GammaProxmu\n",
      "d:\\AAU\\Module_3\\Project_mo_3\\scripts\\scripts\\footprint_FKM_climatology.py:273: RuntimeWarning: invalid value encountered in scalar power\n",
      "  D = sigmav * GammaProx1r / GammaProxmu / ((r * r * Kmaj / Umaj)**(m / r)) / Umaj\n"
     ]
    },
    {
     "name": "stdout",
     "output_type": "stream",
     "text": [
      "Percent: [##################################################] 100% Done...00001% \n"
     ]
    },
    {
     "name": "stderr",
     "output_type": "stream",
     "text": [
      "2 times Error(0003):\n",
      " z0 (roughness length) must be larger than zero.\n",
      "193 times Error(0007):\n",
      " zm/ol (measurement height to Obukhov length ratio) must be equal or larger than -15.5.\n",
      "15 times Error(0008):\n",
      " sigmav (standard deviation of crosswind) must be larger than zero.\n",
      "1002 times Error(0009):\n",
      " ustar (friction velocity) must be >=0.1.\n"
     ]
    },
    {
     "name": "stdout",
     "output_type": "stream",
     "text": [
      "GeoTIFF saved as stable_2.tif\n"
     ]
    }
   ],
   "source": [
    "# Constants and parameters\n",
    "zm_s = 2.83  # Measurement height [m] from AMF metadata\n",
    "h_s = 2000.  # Height of atmospheric boundary layer [m] - assumed\n",
    "h_c = np.array(df['z0'].tolist())  # Height of atmospheric boundary layer [m]\n",
    "dx = 0.5  # Model resolution [m]\n",
    "origin_d = 200.  # Model bounds distance from origin [m]\n",
    "\n",
    "# Station coordinates (lat, long)\n",
    "latitude = 22.53809845\n",
    "longitude = 72.98046952\n",
    "station_coord = (latitude, longitude)\n",
    "\n",
    "# Calculate the appropriate EPSG code for UTM based on latitude and longitude\n",
    "EPSG = int(32700 - np.round((45 + latitude) / 90.0) * 100 + np.round((183 + longitude) / 6.0))\n",
    "\n",
    "# Use pyproj to transform from lat/long (EPSG:4326) to UTM coordinates\n",
    "transformer = pyproj.Transformer.from_crs(\"EPSG:4326\", f\"EPSG:{EPSG}\", always_xy=True)\n",
    "station_x, station_y = transformer.transform(longitude, latitude)\n",
    "\n",
    "# Check the UTM coordinate results\n",
    "print(f\"Station coordinates in UTM: X = {station_x}, Y = {station_y}, EPSG = {EPSG}\")\n",
    "\n",
    "# Placeholder for the FFP model (assuming fkm is properly defined and used in your environment)\n",
    "# Initialize FFP model\n",
    "ffp = fkm.FKM_climatology(domain=[-origin_d, origin_d, -origin_d, origin_d],\n",
    "                           dx=dx, dy=dx,\n",
    "                           zm=df['Zm_1'].tolist(), \n",
    "                           z0=df['z0'].tolist(), \n",
    "                           umean=df['umean1'].tolist(),\n",
    "                           ol=df['ol'].tolist(), \n",
    "                           sigmav=df['sigma_v'].tolist(), \n",
    "                           ustar=df['u_star'].tolist(), \n",
    "                           wind_dir=df['wind_dir'].tolist())\n",
    "\n",
    "# Process the footprint data (assuming ffp returns the correct structure)\n",
    "f_2d = np.array(ffp['fclim_2d']) \n",
    "x_2d = np.array(ffp['x_2d']) + station_x\n",
    "y_2d = np.array(ffp['y_2d']) + station_y\n",
    "f_2d = f_2d * dx ** 2 \n",
    "\n",
    "# Create affine transformation for the GeoTIFF\n",
    "affine_transform = from_origin(station_x - origin_d, station_y + origin_d, dx, dx)\n",
    "\n",
    "# Set CRS (Coordinate Reference System) using rasterio's CRS\n",
    "utm_crs = pyproj.CRS.from_epsg(EPSG).to_wkt()\n",
    "# Prepare to write the GeoTIFF file\n",
    "out_f = 'stable_2.tif'\n",
    "with rasterio.open(out_f, 'w', driver='GTiff', dtype=rasterio.float64,\n",
    "                   count=1,  # Only one band for this footprint\n",
    "                   height=f_2d.shape[0], width=f_2d.shape[1],\n",
    "                   transform=affine_transform,\n",
    "                   crs=utm_crs,\n",
    "                   nodata=0.0) as new_dat:\n",
    "    new_dat.write(f_2d, 1)  # Write to the first band\n",
    "\n",
    "print(f\"GeoTIFF saved as {out_f}\")"
   ]
  },
  {
   "cell_type": "code",
   "execution_count": null,
   "metadata": {},
   "outputs": [],
   "source": []
  },
  {
   "cell_type": "code",
   "execution_count": 15,
   "metadata": {},
   "outputs": [
    {
     "name": "stdout",
     "output_type": "stream",
     "text": [
      "Station coordinates in UTM: X = 292307.3593888789, Y = 2493792.267627137, EPSG = 32643\n",
      "Percent: [--------------------------------------------------] 0.0% "
     ]
    },
    {
     "name": "stderr",
     "output_type": "stream",
     "text": [
      "d:\\AAU\\Module_3\\Project_mo_3\\scripts\\scripts\\footprint_FKM_climatology.py:294: RuntimeWarning: divide by zero encountered in divide\n",
      "  help3 = C*numpy.exp(-B/x_ma)*(x_ma**(-A))\n",
      "d:\\AAU\\Module_3\\Project_mo_3\\scripts\\scripts\\footprint_FKM_climatology.py:294: RuntimeWarning: overflow encountered in exp\n",
      "  help3 = C*numpy.exp(-B/x_ma)*(x_ma**(-A))\n",
      "d:\\AAU\\Module_3\\Project_mo_3\\scripts\\scripts\\footprint_FKM_climatology.py:294: RuntimeWarning: overflow encountered in multiply\n",
      "  help3 = C*numpy.exp(-B/x_ma)*(x_ma**(-A))\n"
     ]
    },
    {
     "name": "stdout",
     "output_type": "stream",
     "text": [
      "Percent: [##################################################] 100.0% 0000000001% "
     ]
    },
    {
     "name": "stderr",
     "output_type": "stream",
     "text": [
      "478 times Error(0007):\n",
      " zm/ol (measurement height to Obukhov length ratio) must be equal or larger than -15.5.\n",
      "18 times Error(0008):\n",
      " sigmav (standard deviation of crosswind) must be larger than zero.\n",
      "82 times Error(0009):\n",
      " ustar (friction velocity) must be >=0.1.\n"
     ]
    },
    {
     "name": "stdout",
     "output_type": "stream",
     "text": [
      "GeoTIFF saved as unstable_5.tif\n"
     ]
    }
   ],
   "source": [
    "# Constants and parameters\n",
    "zm_s = 5.66  # Measurement height [m] from AMF metadata\n",
    "h_s = 2000.  # Height of atmospheric boundary layer [m] - assumed\n",
    "h_c = np.array(dff['z0'].tolist())  # Height of atmospheric boundary layer [m]\n",
    "dx = 0.5  # Model resolution [m]\n",
    "origin_d = 200.  # Model bounds distance from origin [m]\n",
    "\n",
    "# Station coordinates (lat, long)\n",
    "latitude = 22.53809845\n",
    "longitude = 72.98046952\n",
    "station_coord = (latitude, longitude)\n",
    "\n",
    "# Calculate the appropriate EPSG code for UTM based on latitude and longitude\n",
    "EPSG = int(32700 - np.round((45 + latitude) / 90.0) * 100 + np.round((183 + longitude) / 6.0))\n",
    "\n",
    "# Use pyproj to transform from lat/long (EPSG:4326) to UTM coordinates\n",
    "transformer = pyproj.Transformer.from_crs(\"EPSG:4326\", f\"EPSG:{EPSG}\", always_xy=True)\n",
    "station_x, station_y = transformer.transform(longitude, latitude)\n",
    "\n",
    "# Check the UTM coordinate results\n",
    "print(f\"Station coordinates in UTM: X = {station_x}, Y = {station_y}, EPSG = {EPSG}\")\n",
    "\n",
    "# Placeholder for the FFP model (assuming fkm is properly defined and used in your environment)\n",
    "# Initialize FFP model\n",
    "ffp = fkm.FKM_climatology(domain=[-origin_d, origin_d, -origin_d, origin_d],\n",
    "                           dx=dx, dy=dx,\n",
    "                           zm=dff['Zm_2'].tolist(), \n",
    "                           z0=dff['z0'].tolist(), \n",
    "                           umean=dff['umean'].tolist(),\n",
    "                           ol=dff['ol'].tolist(), \n",
    "                           sigmav=dff['sigma_v'].tolist(), \n",
    "                           ustar=dff['u_star'].tolist(), \n",
    "                           wind_dir=dff['wind_dir'].tolist())\n",
    "\n",
    "# Process the footprint data (assuming ffp returns the correct structure)\n",
    "f_2d = np.array(ffp['fclim_2d']) \n",
    "x_2d = np.array(ffp['x_2d']) + station_x\n",
    "y_2d = np.array(ffp['y_2d']) + station_y\n",
    "f_2d = f_2d * dx ** 2 \n",
    "\n",
    "# Create affine transformation for the GeoTIFF\n",
    "affine_transform = from_origin(station_x - origin_d, station_y + origin_d, dx, dx)\n",
    "\n",
    "# Set CRS (Coordinate Reference System) using rasterio's CRS\n",
    "utm_crs = pyproj.CRS.from_epsg(EPSG).to_wkt()\n",
    "# Prepare to write the GeoTIFF file\n",
    "out_f = 'unstable_5.tif'\n",
    "with rasterio.open(out_f, 'w', driver='GTiff', dtype=rasterio.float64,\n",
    "                   count=1,  # Only one band for this footprint\n",
    "                   height=f_2d.shape[0], width=f_2d.shape[1],\n",
    "                   transform=affine_transform,\n",
    "                   crs=utm_crs,\n",
    "                   nodata=0.0) as new_dat:\n",
    "    new_dat.write(f_2d, 1)  # Write to the first band\n",
    "\n",
    "print(f\"GeoTIFF saved as {out_f}\")"
   ]
  },
  {
   "cell_type": "code",
   "execution_count": 16,
   "metadata": {},
   "outputs": [
    {
     "name": "stdout",
     "output_type": "stream",
     "text": [
      "Station coordinates in UTM: X = 292307.3593888789, Y = 2493792.267627137, EPSG = 32643\n",
      "Percent: [###-----------------------------------------------] 5.0% "
     ]
    },
    {
     "name": "stderr",
     "output_type": "stream",
     "text": [
      "d:\\AAU\\Module_3\\Project_mo_3\\scripts\\scripts\\footprint_FKM_climatology.py:272: RuntimeWarning: invalid value encountered in scalar power\n",
      "  C = (B**mu) /GammaProxmu\n",
      "d:\\AAU\\Module_3\\Project_mo_3\\scripts\\scripts\\footprint_FKM_climatology.py:273: RuntimeWarning: invalid value encountered in scalar power\n",
      "  D = sigmav * GammaProx1r / GammaProxmu / ((r * r * Kmaj / Umaj)**(m / r)) / Umaj\n"
     ]
    },
    {
     "name": "stdout",
     "output_type": "stream",
     "text": [
      "Percent: [##################################################] 100.0% 0000000001% "
     ]
    },
    {
     "name": "stderr",
     "output_type": "stream",
     "text": [
      "187 times Error(0007):\n",
      " zm/ol (measurement height to Obukhov length ratio) must be equal or larger than -15.5.\n",
      "21 times Error(0008):\n",
      " sigmav (standard deviation of crosswind) must be larger than zero.\n",
      "95 times Error(0009):\n",
      " ustar (friction velocity) must be >=0.1.\n"
     ]
    },
    {
     "name": "stdout",
     "output_type": "stream",
     "text": [
      "GeoTIFF saved as unstable_2.tif\n"
     ]
    }
   ],
   "source": [
    "# Constants and parameters\n",
    "zm_s = 2.83  # Measurement height [m] from AMF metadata\n",
    "h_s = 2000.  # Height of atmospheric boundary layer [m] - assumed\n",
    "h_c = np.array(dff['z0'].tolist())  # Height of atmospheric boundary layer [m]\n",
    "dx = 0.5  # Model resolution [m]\n",
    "origin_d = 200.  # Model bounds distance from origin [m]\n",
    "\n",
    "# Station coordinates (lat, long)\n",
    "latitude = 22.53809845\n",
    "longitude = 72.98046952\n",
    "station_coord = (latitude, longitude)\n",
    "\n",
    "# Calculate the appropriate EPSG code for UTM based on latitude and longitude\n",
    "EPSG = int(32700 - np.round((45 + latitude) / 90.0) * 100 + np.round((183 + longitude) / 6.0))\n",
    "\n",
    "# Use pyproj to transform from lat/long (EPSG:4326) to UTM coordinates\n",
    "transformer = pyproj.Transformer.from_crs(\"EPSG:4326\", f\"EPSG:{EPSG}\", always_xy=True)\n",
    "station_x, station_y = transformer.transform(longitude, latitude)\n",
    "\n",
    "# Check the UTM coordinate results\n",
    "print(f\"Station coordinates in UTM: X = {station_x}, Y = {station_y}, EPSG = {EPSG}\")\n",
    "\n",
    "# Placeholder for the FFP model (assuming fkm is properly defined and used in your environment)\n",
    "# Initialize FFP model\n",
    "ffp = fkm.FKM_climatology(domain=[-origin_d, origin_d, -origin_d, origin_d],\n",
    "                           dx=dx, dy=dx,\n",
    "                           zm=dff['Zm_1'].tolist(), \n",
    "                           z0=dff['z0'].tolist(), \n",
    "                           umean=dff['umean1'].tolist(),\n",
    "                           ol=dff['ol'].tolist(), \n",
    "                           sigmav=dff['sigma_v'].tolist(), \n",
    "                           ustar=dff['u_star'].tolist(), \n",
    "                           wind_dir=dff['wind_dir'].tolist())\n",
    "\n",
    "# Process the footprint data (assuming ffp returns the correct structure)\n",
    "f_2d = np.array(ffp['fclim_2d']) \n",
    "x_2d = np.array(ffp['x_2d']) + station_x\n",
    "y_2d = np.array(ffp['y_2d']) + station_y\n",
    "f_2d = f_2d * dx ** 2 \n",
    "\n",
    "# Create affine transformation for the GeoTIFF\n",
    "affine_transform = from_origin(station_x - origin_d, station_y + origin_d, dx, dx)\n",
    "\n",
    "# Set CRS (Coordinate Reference System) using rasterio's CRS\n",
    "utm_crs = pyproj.CRS.from_epsg(EPSG).to_wkt()\n",
    "# Prepare to write the GeoTIFF file\n",
    "out_f = 'unstable_2.tif'\n",
    "with rasterio.open(out_f, 'w', driver='GTiff', dtype=rasterio.float64,\n",
    "                   count=1,  # Only one band for this footprint\n",
    "                   height=f_2d.shape[0], width=f_2d.shape[1],\n",
    "                   transform=affine_transform,\n",
    "                   crs=utm_crs,\n",
    "                   nodata=0.0) as new_dat:\n",
    "    new_dat.write(f_2d, 1)  # Write to the first band\n",
    "\n",
    "print(f\"GeoTIFF saved as {out_f}\")"
   ]
  }
 ],
 "metadata": {
  "kernelspec": {
   "display_name": "Python 3",
   "language": "python",
   "name": "python3"
  },
  "language_info": {
   "codemirror_mode": {
    "name": "ipython",
    "version": 3
   },
   "file_extension": ".py",
   "mimetype": "text/x-python",
   "name": "python",
   "nbconvert_exporter": "python",
   "pygments_lexer": "ipython3",
   "version": "3.11.5"
  }
 },
 "nbformat": 4,
 "nbformat_minor": 2
}
